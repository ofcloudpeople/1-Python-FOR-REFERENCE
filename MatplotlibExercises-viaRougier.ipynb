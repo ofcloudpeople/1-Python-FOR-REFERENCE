{
 "metadata": {
  "name": "",
  "signature": "sha256:4d882ee86784879453610bac868b4c49a46d87d355748a066d533335b5439739"
 },
 "nbformat": 3,
 "nbformat_minor": 0,
 "worksheets": [
  {
   "cells": [
    {
     "cell_type": "heading",
     "level": 1,
     "metadata": {},
     "source": [
      "Simple Plot"
     ]
    },
    {
     "cell_type": "heading",
     "level": 2,
     "metadata": {},
     "source": [
      "Instantiating Defaults"
     ]
    },
    {
     "cell_type": "code",
     "collapsed": false,
     "input": [
      "from pylab import *\n",
      "\n",
      "figure(figsize=(8,6), dpi=80) #for a figure of size 8x6 points, using 80 dots per inch\n",
      "subplot(1,1,1) #to subplot from a grid of 1x1\n",
      "X = np.linspace(-np.pi, np.pi, 256,endpoint=True)\n",
      "C,S = np.cos(X), np.sin(X)\n",
      "plot(X, C, color=\"blue\", linewidth=1.0, linestyle=\"-\") #to plot cosine using blue color with a continuous line of width 1 (pixels)\n",
      "plot(X, S, color=\"green\", linewidth=1.0, linestyle=\"-\") #to plot sine using green color with a continuous line of width 1 (pixels)\n",
      "xlim(-4.0,4.0) #to set x limits\n",
      "xticks(np.linspace(-4,4,9,endpoint=True)) #to set x ticks\n",
      "ylim(-1.0,1.0)#to set y limits\n",
      "yticks(np.linspace(-1,1,5,endpoint=True)) #to set y ticks\n",
      "\n",
      "# Save figure using 72 dots per inch\n",
      "savefig(\"exercise_2.png\",dpi=72)\n",
      "\n",
      "show() # Show result on screen"
     ],
     "language": "python",
     "metadata": {},
     "outputs": [],
     "prompt_number": 27
    },
    {
     "cell_type": "heading",
     "level": 2,
     "metadata": {},
     "source": [
      "Colors"
     ]
    },
    {
     "cell_type": "code",
     "collapsed": false,
     "input": [
      "from pylab import *\n",
      "\n",
      "figure(figsize=(10,6), dpi=80) #increased figsize\n",
      "subplot(1,1,1)\n",
      "X = np.linspace(-np.pi, np.pi, 256, endpoint=True)\n",
      "C,S = np.cos(X), np.sin(X)\n",
      "plot(X, C, color=\"blue\", linewidth=2.5, linestyle=\"-\") #changed color to blue\n",
      "plot(X, S, color=\"red\",  linewidth=2.5, linestyle=\"-\") #changed color to red\n",
      "xlim(-4.0,4.0)\n",
      "xticks(np.linspace(-4,4,9,endpoint=True))\n",
      "ylim(-1.0,1.0)\n",
      "yticks(np.linspace(-1,1,5,endpoint=True))\n",
      "\n",
      "show()"
     ],
     "language": "python",
     "metadata": {},
     "outputs": [],
     "prompt_number": 28
    },
    {
     "cell_type": "heading",
     "level": 2,
     "metadata": {},
     "source": [
      "Setting limits"
     ]
    },
    {
     "cell_type": "code",
     "collapsed": false,
     "input": [
      "from pylab import *\n",
      "\n",
      "figure(figsize=(10,6), dpi=80) \n",
      "subplot(1,1,1) \n",
      "X = np.linspace(-np.pi, np.pi, 256,endpoint=True)\n",
      "Y = np.linspace(-np.pi, np.pi, 256, endpoint=True)\n",
      "C,S = np.cos(X), np.sin(X)\n",
      "xmin ,xmax = X.min(), X.max() #added line to make space\n",
      "ymin, ymax = Y.min(), Y.max() #added line to make space\n",
      "dx = (xmax - xmin) * 0.2 #added line to make space\n",
      "dy = (ymax - ymin) * 0.2 #added line to make space\n",
      "plot(X, C, color=\"blue\", linewidth=2.5, linestyle=\"-\")\n",
      "plot(X, S, color=\"red\",  linewidth=2.5, linestyle=\"-\")\n",
      "xlim(xmin - dx, xmax + dx) #replaced line to make space\n",
      "xticks(np.linspace(-4,4,9,endpoint=True))\n",
      "ylim(ymin - dy, ymax + dy) #replaced line to make space\n",
      "yticks(np.linspace(-1,1,5,endpoint=True))\n",
      "\n",
      "show()"
     ],
     "language": "python",
     "metadata": {},
     "outputs": [],
     "prompt_number": 29
    },
    {
     "cell_type": "heading",
     "level": 2,
     "metadata": {},
     "source": [
      "Setting ticks"
     ]
    },
    {
     "cell_type": "code",
     "collapsed": false,
     "input": [
      "from pylab import *\n",
      "\n",
      "figure(figsize=(10,6), dpi=80) \n",
      "subplot(1,1,1) \n",
      "X = np.linspace(-np.pi, np.pi, 256,endpoint=True)\n",
      "Y = np.linspace(-np.pi, np.pi, 256, endpoint=True)\n",
      "C,S = np.cos(X), np.sin(X)\n",
      "xmin ,xmax = X.min(), X.max()\n",
      "ymin, ymax = Y.min(), Y.max()\n",
      "dx = (xmax - xmin) * 0.2\n",
      "dy = (ymax - ymin) * 0.2\n",
      "plot(X, C, color=\"blue\", linewidth=2.5, linestyle=\"-\")\n",
      "plot(X, S, color=\"red\",  linewidth=2.5, linestyle=\"-\")\n",
      "xlim(xmin - dx, xmax + dx) \n",
      "xticks( [-np.pi, -np.pi/2, 0, np.pi/2, np.pi])#replaced line to show values +/-\u03c0,+/-\u03c0/2\n",
      "ylim(ymin - dy, ymax + dy)\n",
      "yticks([-1, 0, +1]) #replaced line to show values +/-\u03c0,+/-\u03c0/2\n",
      "\n",
      "show()"
     ],
     "language": "python",
     "metadata": {},
     "outputs": [],
     "prompt_number": 30
    },
    {
     "cell_type": "heading",
     "level": 2,
     "metadata": {},
     "source": [
      "Tick Labels"
     ]
    },
    {
     "cell_type": "code",
     "collapsed": false,
     "input": [
      "from pylab import *\n",
      "\n",
      "figure(figsize=(10,6), dpi=80) \n",
      "subplot(1,1,1) \n",
      "X = np.linspace(-np.pi, np.pi, 256,endpoint=True)\n",
      "Y = np.linspace(-np.pi, np.pi, 256, endpoint=True)\n",
      "C,S = np.cos(X), np.sin(X)\n",
      "xmin ,xmax = X.min(), X.max()\n",
      "ymin, ymax = Y.min(), Y.max()\n",
      "dx = (xmax - xmin) * 0.2\n",
      "dy = (ymax - ymin) * 0.2\n",
      "plot(X, C, color=\"blue\", linewidth=2.5, linestyle=\"-\")\n",
      "plot(X, S, color=\"red\",  linewidth=2.5, linestyle=\"-\")\n",
      "xlim(xmin - dx, xmax + dx) \n",
      "xticks([-np.pi, -np.pi/2, 0, np.pi/2, np.pi],\n",
      "       [r'$-\\pi$', r'$-\\pi/2$', r'$0$', r'$+\\pi/2$', r'$+\\pi$']) #replaced line to show values +/-\u03c0,+/-\u03c0/2\n",
      "ylim(ymin - dy, ymax + dy)\n",
      "yticks([-1, 0, +1],\n",
      "       [r'$-1$', r'$0$', r'$+1$']) #replaced line to show values +/-\u03c0,+/-\u03c0/2\n",
      "\n",
      "show()"
     ],
     "language": "python",
     "metadata": {},
     "outputs": [],
     "prompt_number": 31
    },
    {
     "cell_type": "heading",
     "level": 2,
     "metadata": {},
     "source": [
      "Spines"
     ]
    },
    {
     "cell_type": "markdown",
     "metadata": {},
     "source": [
      "Spines: the lines connecting the axis tick marks and noting the boundaries of the data area. They can be placed at arbitrary positions from the border of the axis."
     ]
    },
    {
     "cell_type": "code",
     "collapsed": false,
     "input": [
      "from pylab import *\n",
      "\n",
      "figure(figsize=(10,6), dpi=80) \n",
      "subplot(1,1,1) \n",
      "X = np.linspace(-np.pi, np.pi, 256,endpoint=True)\n",
      "Y = np.linspace(-np.pi, np.pi, 256, endpoint=True)\n",
      "C,S = np.cos(X), np.sin(X)\n",
      "xmin ,xmax = X.min(), X.max()\n",
      "ymin, ymax = Y.min(), Y.max()\n",
      "dx = (xmax - xmin) * 0.2\n",
      "dy = (ymax - ymin) * 0.2\n",
      "ax = gca() #added line\n",
      "plot(X, C, color=\"blue\", linewidth=2.5, linestyle=\"-\")\n",
      "plot(X, S, color=\"red\",  linewidth=2.5, linestyle=\"-\")\n",
      "xlim(xmin - dx, xmax + dx) \n",
      "xticks([-np.pi, -np.pi/2, 0, np.pi/2, np.pi],\n",
      "       [r'$-\\pi$', r'$-\\pi/2$', r'$0$', r'$+\\pi/2$', r'$+\\pi$'])\n",
      "ylim(ymin - dy, ymax + dy)\n",
      "yticks([-1, 0, +1],\n",
      "       [r'$-1$', r'$0$', r'$+1$'])\n",
      "\n",
      "#Moved spines. Discarded the top and right spines to have the four spines (top/bottom/left/right)\n",
      "#in the middle by 1) setting their color to none and\n",
      "#2) moving the bottom and left ones to coordinate 0 in data space coordinates.\n",
      "ax.spines['right'].set_color('none')\n",
      "ax.spines['top'].set_color('none')\n",
      "ax.xaxis.set_ticks_position('bottom')\n",
      "ax.spines['bottom'].set_position(('data',0))\n",
      "ax.yaxis.set_ticks_position('left')\n",
      "ax.spines['left'].set_position(('data',0))\n",
      "\n",
      "show()"
     ],
     "language": "python",
     "metadata": {},
     "outputs": [],
     "prompt_number": 32
    },
    {
     "cell_type": "heading",
     "level": 2,
     "metadata": {},
     "source": [
      "Legend"
     ]
    },
    {
     "cell_type": "code",
     "collapsed": false,
     "input": [
      "from pylab import *\n",
      "\n",
      "figure(figsize=(10,6), dpi=80) \n",
      "subplot(1,1,1) \n",
      "X = np.linspace(-np.pi, np.pi, 256,endpoint=True)\n",
      "Y = np.linspace(-np.pi, np.pi, 256, endpoint=True)\n",
      "C,S = np.cos(X), np.sin(X)\n",
      "xmin ,xmax = X.min(), X.max()\n",
      "ymin, ymax = Y.min(), Y.max()\n",
      "dx = (xmax - xmin) * 0.2\n",
      "dy = (ymax - ymin) * 0.2\n",
      "ax = gca()\n",
      "plot(X, C, color=\"blue\", linewidth=2.5, linestyle=\"-\", label=\"cosine\") #added argument label for legend box\n",
      "plot(X, S, color=\"red\",  linewidth=2.5, linestyle=\"-\", label=\"sine\") #added argument label for legend box\n",
      "legend(loc='upper left') #added line to add a legend\n",
      "xlim(xmin - dx, xmax + dx) \n",
      "xticks([-np.pi, -np.pi/2, 0, np.pi/2, np.pi],\n",
      "       [r'$-\\pi$', r'$-\\pi/2$', r'$0$', r'$+\\pi/2$', r'$+\\pi$'])\n",
      "ylim(ymin - dy, ymax + dy)\n",
      "yticks([-1, 0, +1],\n",
      "       [r'$-1$', r'$0$', r'$+1$'])\n",
      "\n",
      "ax.spines['right'].set_color('none')\n",
      "ax.spines['top'].set_color('none')\n",
      "ax.xaxis.set_ticks_position('bottom')\n",
      "ax.spines['bottom'].set_position(('data',0))\n",
      "ax.yaxis.set_ticks_position('left')\n",
      "ax.spines['left'].set_position(('data',0))\n",
      "\n",
      "show()"
     ],
     "language": "python",
     "metadata": {},
     "outputs": [],
     "prompt_number": 33
    },
    {
     "cell_type": "heading",
     "level": 2,
     "metadata": {},
     "source": [
      "Annotation of points"
     ]
    },
    {
     "cell_type": "code",
     "collapsed": false,
     "input": [
      "from pylab import *\n",
      "\n",
      "figure(figsize=(10,6), dpi=80) \n",
      "subplot(1,1,1) \n",
      "X = np.linspace(-np.pi, np.pi, 256,endpoint=True)\n",
      "Y = np.linspace(-np.pi, np.pi, 256, endpoint=True)\n",
      "C,S = np.cos(X), np.sin(X)\n",
      "xmin ,xmax = X.min(), X.max()\n",
      "ymin, ymax = Y.min(), Y.max()\n",
      "dx = (xmax - xmin) * 0.2\n",
      "dy = (ymax - ymin) * 0.2\n",
      "ax = gca()\n",
      "plot(X, C, color=\"blue\", linewidth=2.5, linestyle=\"-\", label=\"cosine\")\n",
      "plot(X, S, color=\"red\",  linewidth=2.5, linestyle=\"-\", label=\"sine\")\n",
      "legend(loc='upper left')\n",
      "xlim(xmin - dx, xmax + dx) \n",
      "xticks([-np.pi, -np.pi/2, 0, np.pi/2, np.pi],\n",
      "       [r'$-\\pi$', r'$-\\pi/2$', r'$0$', r'$+\\pi/2$', r'$+\\pi$'])\n",
      "ylim(ymin - dy, ymax + dy)\n",
      "yticks([-1, 0, +1],\n",
      "       [r'$-1$', r'$0$', r'$+1$'])\n",
      "\n",
      "#Added section to annotate both the sine and the cosine using 2\u03c0/3 value\n",
      "#for drawing a marker on the curve and a straight dotted line, and annotating text with an arrow.\n",
      "t = 2*np.pi/3\n",
      "plot([t,t],[0,np.cos(t)], color ='blue', linewidth=2.5, linestyle=\"--\")\n",
      "scatter([t,],[np.cos(t),], 50, color ='blue')\n",
      "annotate(r'$\\sin(\\frac{2\\pi}{3})=\\frac{\\sqrt{3}}{2}$',\n",
      "         xy=(t, np.sin(t)), xycoords='data',\n",
      "         xytext=(+10, +30), textcoords='offset points', fontsize=16,\n",
      "         arrowprops=dict(arrowstyle=\"->\", connectionstyle=\"arc3,rad=.2\"))\n",
      "plot([t,t],[0,np.sin(t)], color ='red', linewidth=2.5, linestyle=\"--\")\n",
      "scatter([t,],[np.sin(t),], 50, color ='red')\n",
      "annotate(r'$\\cos(\\frac{2\\pi}{3})=-\\frac{1}{2}$',\n",
      "         xy=(t, np.cos(t)), xycoords='data',\n",
      "         xytext=(-90, -50), textcoords='offset points', fontsize=16,\n",
      "         arrowprops=dict(arrowstyle=\"->\", connectionstyle=\"arc3,rad=.2\"))\n",
      "\n",
      "ax.spines['right'].set_color('none')\n",
      "ax.spines['top'].set_color('none')\n",
      "ax.xaxis.set_ticks_position('bottom')\n",
      "ax.spines['bottom'].set_position(('data',0))\n",
      "ax.yaxis.set_ticks_position('left')\n",
      "ax.spines['left'].set_position(('data',0))\n",
      "\n",
      "show()"
     ],
     "language": "python",
     "metadata": {},
     "outputs": [],
     "prompt_number": 34
    },
    {
     "cell_type": "heading",
     "level": 2,
     "metadata": {},
     "source": [
      "Importance of details"
     ]
    },
    {
     "cell_type": "code",
     "collapsed": false,
     "input": [
      "from pylab import *\n",
      "\n",
      "figure(figsize=(10,6), dpi=80) \n",
      "subplot(1,1,1) \n",
      "X = np.linspace(-np.pi, np.pi, 256,endpoint=True)\n",
      "Y = np.linspace(-np.pi, np.pi, 256, endpoint=True)\n",
      "C,S = np.cos(X), np.sin(X)\n",
      "xmin ,xmax = X.min(), X.max()\n",
      "ymin, ymax = Y.min(), Y.max()\n",
      "dx = (xmax - xmin) * 0.2\n",
      "dy = (ymax - ymin) * 0.2\n",
      "ax = gca()\n",
      "plot(X, C, color=\"blue\", linewidth=2.5, linestyle=\"-\", label=\"cosine\")\n",
      "plot(X, S, color=\"red\",  linewidth=2.5, linestyle=\"-\", label=\"sine\")\n",
      "legend(loc='upper left')\n",
      "xlim(xmin - dx, xmax + dx) \n",
      "xticks([-np.pi, -np.pi/2, 0, np.pi/2, np.pi],\n",
      "       [r'$-\\pi$', r'$-\\pi/2$', r'$0$', r'$+\\pi/2$', r'$+\\pi$'])\n",
      "ylim(ymin - dy, ymax + dy)\n",
      "yticks([-1, 0, +1],\n",
      "       [r'$-1$', r'$0$', r'$+1$'])\n",
      "\n",
      "t = 2*np.pi/3\n",
      "plot([t,t],[0,np.cos(t)], color ='blue', linewidth=2.5, linestyle=\"--\")\n",
      "scatter([t,],[np.cos(t),], 50, color ='blue')\n",
      "annotate(r'$\\sin(\\frac{2\\pi}{3})=\\frac{\\sqrt{3}}{2}$',\n",
      "         xy=(t, np.sin(t)), xycoords='data',\n",
      "         xytext=(+10, +30), textcoords='offset points', fontsize=16,\n",
      "         arrowprops=dict(arrowstyle=\"->\", connectionstyle=\"arc3,rad=.2\"))\n",
      "plot([t,t],[0,np.sin(t)], color ='red', linewidth=2.5, linestyle=\"--\")\n",
      "scatter([t,],[np.sin(t),], 50, color ='red')\n",
      "annotate(r'$\\cos(\\frac{2\\pi}{3})=-\\frac{1}{2}$',\n",
      "         xy=(t, np.cos(t)), xycoords='data',\n",
      "         xytext=(-90, -50), textcoords='offset points', fontsize=16,\n",
      "         arrowprops=dict(arrowstyle=\"->\", connectionstyle=\"arc3,rad=.2\"))\n",
      "\n",
      "#To see both the data and labels, adjusted the tick labels to make ticks bigger and\n",
      "#the properties to render a semi-transparent white background.\n",
      "for label in ax.get_xticklabels() + ax.get_yticklabels():\n",
      "    label.set_fontsize(16)\n",
      "    label.set_bbox(dict(facecolor='white', edgecolor='None', alpha=0.65 ))\n",
      "\n",
      "ax.spines['right'].set_color('none')\n",
      "ax.spines['top'].set_color('none')\n",
      "ax.xaxis.set_ticks_position('bottom')\n",
      "ax.spines['bottom'].set_position(('data',0))\n",
      "ax.yaxis.set_ticks_position('left')\n",
      "ax.spines['left'].set_position(('data',0))\n",
      "\n",
      "show()"
     ],
     "language": "python",
     "metadata": {},
     "outputs": [],
     "prompt_number": 35
    },
    {
     "cell_type": "heading",
     "level": 1,
     "metadata": {},
     "source": [
      "Figures, Subplots, Axes and Ticks"
     ]
    },
    {
     "cell_type": "heading",
     "level": 2,
     "metadata": {},
     "source": [
      "Regular Plots"
     ]
    },
    {
     "cell_type": "code",
     "collapsed": false,
     "input": [
      "from pylab import *\n",
      "\n",
      "n = 256\n",
      "X = np.linspace(-np.pi,np.pi,n,endpoint=True)\n",
      "Y = np.sin(2*X)\n",
      "\n",
      "axes = ([0.25, 0.025, 1.0, 1.0])\n",
      "\n",
      "plot (X, Y+1, color='blue', alpha=1.00)\n",
      "plot (X, Y-1, color='blue', alpha=1.00)\n",
      "fill_between(X, 1, Y+1, color='blue', alpha=.25)\n",
      "fill_between(X, -1, Y-1, (Y-1) > -1, color='blue', alpha=.25)\n",
      "fill_between(X, -1, Y-1, (Y-1) < -1, color='red', alpha=.25)\n",
      "\n",
      "show()"
     ],
     "language": "python",
     "metadata": {},
     "outputs": [],
     "prompt_number": 36
    },
    {
     "cell_type": "heading",
     "level": 2,
     "metadata": {},
     "source": [
      "Scatter Plots"
     ]
    },
    {
     "cell_type": "code",
     "collapsed": false,
     "input": [
      "from pylab import *\n",
      "\n",
      "n = 1024 #data points\n",
      "X = np.random.normal(0,1,n)\n",
      "Y = np.random.normal(0,1,n)\n",
      "t = np.arange(n)\n",
      "\n",
      "axes = ([0.025, 0.025, 1.0, 1.0])\n",
      "scatter(X,Y, c=t, s=50, alpha=.50) #alpha=transparency\n",
      "\n",
      "xlim(-0.5,0.5), xticks([])\n",
      "ylim(-0.5,0.5), yticks([])\n",
      "\n",
      "show()"
     ],
     "language": "python",
     "metadata": {},
     "outputs": [],
     "prompt_number": 37
    },
    {
     "cell_type": "heading",
     "level": 2,
     "metadata": {},
     "source": [
      "Bar Plots"
     ]
    },
    {
     "cell_type": "code",
     "collapsed": false,
     "input": [
      "from pylab import *\n",
      "\n",
      "n = 12\n",
      "X = np.arange(n)\n",
      "Y1 = (1-X/float(n)) * np.random.uniform(0.5,1.0,n)\n",
      "Y2 = (1-X/float(n)) * np.random.uniform(0.5,1.0,n)\n",
      "\n",
      "axes = ([0.025, 0.025, 1.0, 1.0])\n",
      "bar(X, +Y1, facecolor='#9999ff', edgecolor='white')\n",
      "bar(X, -Y2, facecolor='#ff9999', edgecolor='white')\n",
      "\n",
      "for x,y in zip(X,Y1):\n",
      "    text(x+0.4, y+0.05, '%.2f' % y, ha='center', va= 'bottom')\n",
      "for x,y in zip(X,Y2):\n",
      "    text(x+0.4, -y-0.05, '%.2f' % y, ha='center', va= 'top')\n",
      "    \n",
      "xlim(-.25,n), xticks([])\n",
      "ylim(-1.25,+1.25), yticks([])\n",
      "show()"
     ],
     "language": "python",
     "metadata": {},
     "outputs": [],
     "prompt_number": 38
    }
   ],
   "metadata": {}
  }
 ]
}